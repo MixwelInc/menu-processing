{
 "cells": [
  {
   "cell_type": "markdown",
   "metadata": {},
   "source": [
    "# Task\n",
    "\n",
    "При помощи любой доступной Вам LLM (open-source, проприетарной) создать прототип решения, которое автоматизировало бы:\n",
    "\n",
    "- Шаг 1. Дополнение QR-меню ресторана информацией с описанием блюд/напитков, которое будет cгенерировано LLM. По каждому блюду/напитку к уже имеющимся данным о названии и цене должен быть добавлен пункт «description», содержащий короткое описание данного блюда/напитка (не более 350 символов);\n",
    "\n",
    "- Шаг 2. Перевод QR-меню ресторана на английский язык.\n",
    "\n",
    "Дано: JSON-файл, содержащий меню ресторана на испанском языке. Блюда и напитки в меню разбиты по категориям.\n",
    "\n",
    "Результат: валидный JSON-файл, содержащий меню в исходной разбивке по категориям блюд, и при этом дополненный описаниями блюд и переведенный на английский язык.\n",
    "\n",
    "\n",
    "Результат необходимо сопроводить следующей информацией:\n",
    "- Описание выполненной работы (какая конфигурация решения использована: LLM, библиотеки, др.);\n",
    "- Текст использованных промптов;\n",
    "- Cопутствующая аналитика: что получилось, что нет, какие есть пути повышения качества решения задачи."
   ]
  },
  {
   "cell_type": "markdown",
   "metadata": {},
   "source": [
    "# Solution 1"
   ]
  },
  {
   "cell_type": "markdown",
   "metadata": {},
   "source": [
    "## Description\n",
    "\n",
    "Самым простым подходом к решению данной задачи было бы написать тривиальный промпт к любой проприетарной LLM, формата: \n",
    "    \n",
    "    \"You will be provided with name of the dish from the menu and the name of the dish category. You have to respond with a concise description of the dish in Spanish. The description must not exceed 350 characters in total.\"\n",
    "    \n",
    "Для перевода можно воспользоваться любым проприетарным переводчиком yandex/google/deepl."
   ]
  },
  {
   "cell_type": "markdown",
   "metadata": {},
   "source": [
    "## Implementation"
   ]
  },
  {
   "cell_type": "markdown",
   "metadata": {},
   "source": [
    "### Imports"
   ]
  },
  {
   "cell_type": "code",
   "execution_count": 20,
   "metadata": {},
   "outputs": [],
   "source": [
    "import os\n",
    "import json\n",
    "import backoff\n",
    "import requests\n",
    "\n",
    "from typing import Optional\n",
    "from dotenv import load_dotenv\n",
    "from tqdm.notebook import tqdm\n",
    "from pydantic_settings import BaseSettings\n",
    "from openai import OpenAI, APIConnectionError, RateLimitError"
   ]
  },
  {
   "cell_type": "markdown",
   "metadata": {},
   "source": [
    "### Config"
   ]
  },
  {
   "cell_type": "code",
   "execution_count": 33,
   "metadata": {},
   "outputs": [],
   "source": [
    "load_dotenv()\n",
    "\n",
    "class Settings(BaseSettings):\n",
    "    ## File paths\n",
    "    FILE_PATH: str = \"/mnt/c/Users/Games/Desktop/beep-dev/prompting-test/data/JSON_input_Viva_Tikila.json\"\n",
    "    RESULT_DESCRIPTIONS_FILE_PATH: str = \"/mnt/c/Users/Games/Desktop/beep-dev/prompting-test/data/solution_1_descriptions.json\"\n",
    "    RESULT_TRANSLATION_FILE_PATH: str = \"/mnt/c/Users/Games/Desktop/beep-dev/prompting-test/data/solution_1_translation.json\"\n",
    "\n",
    "    ## File fields\n",
    "    CATEGORIES_LIST_FIELD: str = \"categories\"\n",
    "    ITEMS_LIST_FIELD: str = \"items\"\n",
    "    CATEGORY_FIELD: str = \"category\"\n",
    "    ITEM_NAME_FIELD: str = \"name\"\n",
    "    ITEM_DESCRIPTION_FIELD: str = \"description\"\n",
    "\n",
    "    ## LLM\n",
    "    #LLM_URL: str = os.environ[\"LLM_URL\"] # for self-host/open-router/etc openai-compatible LLM\n",
    "    LLM_API_KEY: str = os.environ[\"LLM_API_KEY\"]\n",
    "    LLM_NAME: str = \"gpt-4o-mini\"\n",
    "    MAX_TOKENS: int = 100\n",
    "    MAX_WAIT_TIME: int = 60  # больше 60 бессмысленно, кд на TPM пройдет\n",
    "\n",
    "    ## Translate\n",
    "    TRANSLATION_URL: str = os.environ[\"TRANSLATION_URL\"]\n",
    "    TRANSLATION_API_KEY: str = os.environ[\"TRANSLATION_API_KEY\"]\n",
    "    YANDEX_FOLDER_ID: str = os.environ[\"YANDEX_FOLDER_ID\"]\n",
    "\n",
    "    ## Prompts\n",
    "    DESCRIPTION_GENERATION_SYSTEM_PROMPT: str = \"\"\"You are a helpful culinary assistant. You will be provided with name of the dish from the menu and the name of the dish category. \n",
    "    You have to respond with a concise description of the dish in Spanish. The description must not exceed 350 characters in total. Return result in a valid json: {\"description\": <GENERATED_DESCRIPTION>}\n",
    "    \"\"\"\n",
    "    DESCRIPTION_GENERATION_PROMPT: str = \"\"\"Generate a short Spanish description (no more than 350 characters) for the following dish with category: \"{category}\" and name: \"{name}\".\"\"\"\n",
    "\n",
    "settings = Settings()\n",
    "\n"
   ]
  },
  {
   "cell_type": "markdown",
   "metadata": {},
   "source": [
    "### Utils"
   ]
  },
  {
   "cell_type": "code",
   "execution_count": 9,
   "metadata": {},
   "outputs": [],
   "source": [
    "def import_data(file_path: str) -> Optional[dict]:\n",
    "    try:\n",
    "        with open(file_path, 'r', encoding='utf-8') as file:\n",
    "            data = json.load(file)\n",
    "            return data\n",
    "    except FileNotFoundError:\n",
    "        print(f\"Error: The file '{file_path}' was not found.\")\n",
    "    except PermissionError:\n",
    "        print(f\"Error: Permission denied while trying to read the file '{file_path}'.\")\n",
    "    except json.JSONDecodeError as e:\n",
    "        print(f\"Error: Failed to decode JSON. Check the file for syntax errors. Details: {e}\")\n",
    "    except Exception as e:\n",
    "        print(f\"Unexpected error occurred: {e}\")\n",
    "    return None"
   ]
  },
  {
   "cell_type": "code",
   "execution_count": 10,
   "metadata": {},
   "outputs": [],
   "source": [
    "def validate_data_structure(data: dict) -> bool:\n",
    "    \"\"\"\n",
    "    Validate the structure of a JSON object against the expected format.\n",
    "\n",
    "    Parameters:\n",
    "        data (dict): The JSON object to validate.\n",
    "\n",
    "    Returns:\n",
    "        bool: True if the JSON structure is valid, False otherwise.\n",
    "    \"\"\"\n",
    "\n",
    "    if settings.CATEGORIES_LIST_FIELD not in data:\n",
    "        print(f\"Error: Missing top-level field '{settings.CATEGORIES_LIST_FIELD}'.\")\n",
    "        return False\n",
    "\n",
    "    if not isinstance(data[settings.CATEGORIES_LIST_FIELD], list):\n",
    "        print(f\"Error: '{settings.CATEGORIES_LIST_FIELD}' should be a list.\")\n",
    "        return False\n",
    "\n",
    "    for category in data[settings.CATEGORIES_LIST_FIELD]:\n",
    "        if not isinstance(category, dict):\n",
    "            print(\"Error: Each category should be a dictionary.\")\n",
    "            return False\n",
    "\n",
    "        if settings.CATEGORY_FIELD not in category:\n",
    "            print(f\"Error: Missing field '{settings.CATEGORY_FIELD}' in a category.\")\n",
    "            return False\n",
    "\n",
    "        if settings.ITEMS_LIST_FIELD not in category:\n",
    "            print(f\"Error: Missing field '{settings.ITEMS_LIST_FIELD}' in category '{category}'.\")\n",
    "            return False\n",
    "\n",
    "        if not isinstance(category[settings.ITEMS_LIST_FIELD], list):\n",
    "            print(f\"Error: '{settings.ITEMS_LIST_FIELD}' should be a list in category '{category[settings.CATEGORY_FIELD]}'.\")\n",
    "            return False\n",
    "\n",
    "        for item in category[settings.ITEMS_LIST_FIELD]:\n",
    "            if not isinstance(item, dict):\n",
    "                print(f\"Error: Each item in '{settings.ITEMS_LIST_FIELD}' should be a dictionary.\")\n",
    "                return False\n",
    "\n",
    "            if settings.ITEM_NAME_FIELD not in item:\n",
    "                print(f\"Error: Missing field '{settings.ITEM_NAME_FIELD}' in an item of category '{category[settings.CATEGORY_FIELD]}'.\")\n",
    "                return False\n",
    "\n",
    "    return True"
   ]
  },
  {
   "cell_type": "code",
   "execution_count": 11,
   "metadata": {},
   "outputs": [],
   "source": [
    "def get_openai_client() -> OpenAI:\n",
    "    client = OpenAI(api_key=settings.LLM_API_KEY)\n",
    "    return client\n",
    "\n",
    "def backoff_hdlr(details: dict) -> None:\n",
    "    print(f\"Backing off {details['wait']:0.1f} seconds after {details['tries']} tries \")\n"
   ]
  },
  {
   "cell_type": "code",
   "execution_count": 12,
   "metadata": {},
   "outputs": [],
   "source": [
    "@backoff.on_exception(\n",
    "    backoff.expo,\n",
    "    (RateLimitError, APIConnectionError),\n",
    "    max_tries=5,\n",
    "    max_time=settings.MAX_WAIT_TIME,\n",
    "    jitter=backoff.full_jitter,\n",
    "    on_backoff=backoff_hdlr,\n",
    ")\n",
    "def generate_response(prompt: str, system_prompt: str, openai_client: OpenAI) -> str:\n",
    "    response = openai_client.chat.completions.create(\n",
    "        model=settings.LLM_NAME,\n",
    "        response_format={\"type\": \"json_object\"},\n",
    "        messages=[\n",
    "            {\"role\": \"system\", \"content\": system_prompt},\n",
    "            {\"role\": \"user\", \"content\": prompt},\n",
    "        ],\n",
    "        max_tokens=settings.MAX_TOKENS,\n",
    "    )\n",
    "    return response.choices[0].message.content"
   ]
  },
  {
   "cell_type": "code",
   "execution_count": 14,
   "metadata": {},
   "outputs": [],
   "source": [
    "def save_json(data: dict, output_file_path: str) -> None:\n",
    "    \"\"\"\n",
    "    Save data to a JSON file with exception handling.\n",
    "\n",
    "    Parameters:\n",
    "        data (dict): The data to save.\n",
    "        output_file_path (str): The file path where the JSON should be saved.\n",
    "\n",
    "    Raises:\n",
    "        Exception: If any error occurs while saving the file.\n",
    "    \"\"\"\n",
    "    try:\n",
    "        with open(output_file_path, 'w', encoding='utf-8') as output_file:\n",
    "            json.dump(data, output_file, ensure_ascii=False, indent=2)\n",
    "        print(f\"Data successfully saved to {output_file_path}\")\n",
    "    except FileNotFoundError:\n",
    "        print(f\"Error: The specified path '{output_file_path}' does not exist.\")\n",
    "    except PermissionError:\n",
    "        print(f\"Error: Permission denied when trying to write to '{output_file_path}'.\")\n",
    "    except Exception as e:\n",
    "        print(f\"An unexpected error occurred while saving the JSON: {e}\")\n",
    "        raise Exception(\"Unexpected error in save_json\")"
   ]
  },
  {
   "cell_type": "code",
   "execution_count": 38,
   "metadata": {},
   "outputs": [],
   "source": [
    "def translate(text: str, target_language: str = \"en\", source_language: str = \"es\") -> str:\n",
    "    body = {\n",
    "    \"sourceLanguageCode\": source_language,\n",
    "    \"targetLanguageCode\": target_language,\n",
    "    \"texts\": [text],\n",
    "    \"folderId\": settings.YANDEX_FOLDER_ID,\n",
    "    }\n",
    "\n",
    "    headers = {\n",
    "        \"Content-Type\": \"application/json\",\n",
    "        \"Authorization\": \"Api-Key {0}\".format(settings.TRANSLATION_API_KEY)\n",
    "    }\n",
    "\n",
    "    response = requests.post(settings.TRANSLATION_URL,\n",
    "        json = body,\n",
    "        headers = headers\n",
    "    )\n",
    "\n",
    "    return json.loads(response.text)[\"translations\"][0][\"text\"]"
   ]
  },
  {
   "cell_type": "markdown",
   "metadata": {},
   "source": [
    "### Main (generate descriptions)"
   ]
  },
  {
   "cell_type": "code",
   "execution_count": 15,
   "metadata": {},
   "outputs": [
    {
     "data": {
      "application/vnd.jupyter.widget-view+json": {
       "model_id": "0c925e07877040009bedff3d3be14e99",
       "version_major": 2,
       "version_minor": 0
      },
      "text/plain": [
       "Processing Categories:   0%|          | 0/6 [00:00<?, ?it/s]"
      ]
     },
     "metadata": {},
     "output_type": "display_data"
    },
    {
     "data": {
      "application/vnd.jupyter.widget-view+json": {
       "model_id": "4d580def9b9a4018a849e8be66a15fe0",
       "version_major": 2,
       "version_minor": 0
      },
      "text/plain": [
       "Processing Items in Cafés:   0%|          | 0/6 [00:00<?, ?it/s]"
      ]
     },
     "metadata": {},
     "output_type": "display_data"
    },
    {
     "data": {
      "application/vnd.jupyter.widget-view+json": {
       "model_id": "50c98eb25e8d4c429ca802783923addc",
       "version_major": 2,
       "version_minor": 0
      },
      "text/plain": [
       "Processing Items in Bebidas frías:   0%|          | 0/4 [00:00<?, ?it/s]"
      ]
     },
     "metadata": {},
     "output_type": "display_data"
    },
    {
     "data": {
      "application/vnd.jupyter.widget-view+json": {
       "model_id": "65279207157c4c4b9e0c0e99d214dc6c",
       "version_major": 2,
       "version_minor": 0
      },
      "text/plain": [
       "Processing Items in Jugos Frescos:   0%|          | 0/2 [00:00<?, ?it/s]"
      ]
     },
     "metadata": {},
     "output_type": "display_data"
    },
    {
     "data": {
      "application/vnd.jupyter.widget-view+json": {
       "model_id": "516bf667db0d44939e909f82083d782a",
       "version_major": 2,
       "version_minor": 0
      },
      "text/plain": [
       "Processing Items in Smoothies:   0%|          | 0/6 [00:00<?, ?it/s]"
      ]
     },
     "metadata": {},
     "output_type": "display_data"
    },
    {
     "data": {
      "application/vnd.jupyter.widget-view+json": {
       "model_id": "851d2c4d8a994a71ae486d2318641807",
       "version_major": 2,
       "version_minor": 0
      },
      "text/plain": [
       "Processing Items in Desayunos:   0%|          | 0/8 [00:00<?, ?it/s]"
      ]
     },
     "metadata": {},
     "output_type": "display_data"
    },
    {
     "data": {
      "application/vnd.jupyter.widget-view+json": {
       "model_id": "8891bcce842746898c5e1008cb5c49c1",
       "version_major": 2,
       "version_minor": 0
      },
      "text/plain": [
       "Processing Items in A cualquier hora:   0%|          | 0/14 [00:00<?, ?it/s]"
      ]
     },
     "metadata": {},
     "output_type": "display_data"
    },
    {
     "name": "stdout",
     "output_type": "stream",
     "text": [
      "Data successfully saved to /mnt/c/Users/Games/Desktop/beep-dev/prompting-test/data/solution_1_descriptions.json\n"
     ]
    }
   ],
   "source": [
    "data = import_data(settings.FILE_PATH)\n",
    "\n",
    "if not validate_data_structure(data=data):\n",
    "    raise Exception(\"Please fix identified errors in the provided file.\")\n",
    "\n",
    "openai_client = get_openai_client()\n",
    "\n",
    "categories = data.get(settings.CATEGORIES_LIST_FIELD, [])\n",
    "for category in tqdm(categories, desc=\"Processing Categories\"):\n",
    "    category_name = category[settings.CATEGORY_FIELD]\n",
    "    items = category.get(settings.ITEMS_LIST_FIELD, [])\n",
    "    for item in tqdm(items, desc=f\"Processing Items in {category_name}\", leave=False):\n",
    "        item_name = item[settings.ITEM_NAME_FIELD]\n",
    "        try:\n",
    "            description_json = generate_response(\n",
    "                prompt=settings.DESCRIPTION_GENERATION_PROMPT.format(category=category_name, name=item_name),\n",
    "                system_prompt=settings.DESCRIPTION_GENERATION_SYSTEM_PROMPT,\n",
    "                openai_client=openai_client\n",
    "            )\n",
    "\n",
    "            description = json.loads(description_json)[\"description\"]\n",
    "        except (KeyError, json.JSONDecodeError) as e:\n",
    "            print(f\"Error processing item '{item_name}' in category '{category_name}': {e}\")\n",
    "            description = \"Description unavailable\"\n",
    "        except Exception as e:\n",
    "            print(f\"Error processing item '{item_name}' in category '{category_name}': {e}\")\n",
    "            description = \"Description unavailable\"\n",
    "\n",
    "        item[settings.ITEM_DESCRIPTION_FIELD] = description\n",
    "        \n",
    "save_json(data=data, output_file_path=settings.RESULT_DESCRIPTIONS_FILE_PATH)"
   ]
  },
  {
   "cell_type": "markdown",
   "metadata": {},
   "source": [
    "### Main (translate)"
   ]
  },
  {
   "cell_type": "code",
   "execution_count": 39,
   "metadata": {},
   "outputs": [
    {
     "data": {
      "application/vnd.jupyter.widget-view+json": {
       "model_id": "0ce1073595fa4658839919b17298da14",
       "version_major": 2,
       "version_minor": 0
      },
      "text/plain": [
       "Processing Categories:   0%|          | 0/6 [00:00<?, ?it/s]"
      ]
     },
     "metadata": {},
     "output_type": "display_data"
    },
    {
     "data": {
      "application/vnd.jupyter.widget-view+json": {
       "model_id": "7c7b8978ec43463aa4e6601075335bc3",
       "version_major": 2,
       "version_minor": 0
      },
      "text/plain": [
       "Processing Items in Coffee Shops:   0%|          | 0/6 [00:00<?, ?it/s]"
      ]
     },
     "metadata": {},
     "output_type": "display_data"
    },
    {
     "data": {
      "application/vnd.jupyter.widget-view+json": {
       "model_id": "3dd680e6f94f4ed7a44c6024622ea0e5",
       "version_major": 2,
       "version_minor": 0
      },
      "text/plain": [
       "Processing Items in Cold drinks:   0%|          | 0/4 [00:00<?, ?it/s]"
      ]
     },
     "metadata": {},
     "output_type": "display_data"
    },
    {
     "data": {
      "application/vnd.jupyter.widget-view+json": {
       "model_id": "da52c3918e474a2fad289ee6effda041",
       "version_major": 2,
       "version_minor": 0
      },
      "text/plain": [
       "Processing Items in Fresh Juices:   0%|          | 0/2 [00:00<?, ?it/s]"
      ]
     },
     "metadata": {},
     "output_type": "display_data"
    },
    {
     "data": {
      "application/vnd.jupyter.widget-view+json": {
       "model_id": "c03f24345e8b4b57ae62967d57eefc56",
       "version_major": 2,
       "version_minor": 0
      },
      "text/plain": [
       "Processing Items in Smoothies:   0%|          | 0/6 [00:00<?, ?it/s]"
      ]
     },
     "metadata": {},
     "output_type": "display_data"
    },
    {
     "data": {
      "application/vnd.jupyter.widget-view+json": {
       "model_id": "59f9c7a423b844a5b9614a6ea5f9be7b",
       "version_major": 2,
       "version_minor": 0
      },
      "text/plain": [
       "Processing Items in Breakfasts:   0%|          | 0/8 [00:00<?, ?it/s]"
      ]
     },
     "metadata": {},
     "output_type": "display_data"
    },
    {
     "data": {
      "application/vnd.jupyter.widget-view+json": {
       "model_id": "af7c02ea2de14acdb73d1d4810ab892e",
       "version_major": 2,
       "version_minor": 0
      },
      "text/plain": [
       "Processing Items in At any time:   0%|          | 0/14 [00:00<?, ?it/s]"
      ]
     },
     "metadata": {},
     "output_type": "display_data"
    },
    {
     "name": "stdout",
     "output_type": "stream",
     "text": [
      "Data successfully saved to /mnt/c/Users/Games/Desktop/beep-dev/prompting-test/data/solution_1_translation.json\n"
     ]
    }
   ],
   "source": [
    "def translate_data(data, target_language=\"en\"):\n",
    "    categories = data.get(settings.CATEGORIES_LIST_FIELD, [])\n",
    "    for category in tqdm(categories, desc=\"Processing Categories\"):\n",
    "        category_name = category[settings.CATEGORY_FIELD]\n",
    "        category[settings.CATEGORY_FIELD] = translate(category_name, target_language)\n",
    "\n",
    "        items = category.get(settings.ITEMS_LIST_FIELD, [])\n",
    "        for item in tqdm(items, desc=f\"Processing Items in {category_name}\", leave=False):\n",
    "            item[settings.ITEM_NAME_FIELD] = translate(item[settings.ITEM_NAME_FIELD], target_language)\n",
    "            item[settings.ITEM_DESCRIPTION_FIELD] = translate(item[settings.ITEM_DESCRIPTION_FIELD], target_language)\n",
    "\n",
    "    return data\n",
    "\n",
    "translated_data = translate_data(data, target_language=\"en\")\n",
    "save_json(data=translated_data, output_file_path=settings.RESULT_TRANSLATION_FILE_PATH)"
   ]
  },
  {
   "cell_type": "markdown",
   "metadata": {},
   "source": [
    "## Conclusion\n",
    "Подход, в общем и целом, рабочий, но сразу видны потенциальные минусы:\n",
    "1. слабая предсказуемость результатов: \n",
    "    - различные непредсказуемые стили описания блюд\n",
    "    - нет гарантии, что модель ответит в соответствии с заданными ограничениями (<=350 символов), тк она оперирует токенами 🍓\n",
    "2. галюцинации, если наименование блюда слишком творческое/недостаточно информативное, модель может словить галюнов и выдать некорректное описание\n",
    "3. проблемы перевода, при ручном отсмотре итогового файла было выявлено три однотипные ошибки, при раздельном переводе названия позиции и ее описания, название может быть переведено корректно в соответствующем поле, однако будет оставлен оригинал названия позиции в описании (или наоборот):\n",
    "    - {\"name\": \"Papas mix (French fries, Egg, Salad)\", \"description\": \"Mix Potatoes are a ...\"}\n",
    "    - {\"name\": \"Chilaquiles with Chicken\", \"description\": \"Chilaquiles con pollo are a ...\"}\n",
    "    - {\"name\": \"Chilaquiles with Egg\", \"description\": \"Chilaquiles con huevo are a ...\"}\n"
   ]
  },
  {
   "cell_type": "markdown",
   "metadata": {},
   "source": [
    "# Improvements\n",
    "Итак, давайте разберем как можно решить каждую из проблем\n",
    "1. для получения более предсказуемых результатов:\n",
    "    - используем few-shot подход для генерации описаний (возможно у ресторана семейная тематика и владелец хочет сохранить посыл в описаниях блюд)\n",
    "    - добавляем программный контроль количества символов в ответе LLM\n",
    "2. можно придумать множество способов защититься от таких ошибок, самым простым из которых будет добавление соответствующих инструкций в промпт и подобных примеров в few-shot\n",
    "3. для сохранения консистентности названий товаров в полях описаний и наименований, самым простым является одновременный перевод всех текстовых полей позиции меню с использованием LLM. при том, перевод названий секций меню можно оставить через переводчик, так как проблем с их переводом при тестировании выявлено не было (да и не должно возникнуть в будущем)"
   ]
  },
  {
   "cell_type": "markdown",
   "metadata": {},
   "source": [
    "# Solution 2"
   ]
  },
  {
   "cell_type": "markdown",
   "metadata": {},
   "source": [
    "## Description\n",
    "\n",
    "Большая часть кода будет полностью идентична первому решению, поэтому ниже представлены только обновленные/добавленные фрагменты.\n",
    "В данном решении тут будут улучшенные промпты, валидация ответа модели (на предмет соответствия условию по длине) и перевод позиций меню с использованием LLM.\n",
    "\n",
    "В соответствии с улучшениями, предложенными выше, скорректируем промпты и подход к генерации описаний и переводу меню\n",
    "### Промпт для генерации описаний будет иметь примерно такой вид:\n",
    "\n",
    ">    You are a helpful culinary assistant. You will be provided with the name of a dish from the menu and the name of the dish category. \n",
    ">    Your task is to respond with a concise description of the dish in Spanish. The description must align with a family restaurant style and must not exceed 350 characters in total.\n",
    ">\n",
    ">    If the name of the dish does not provide enough meaningful information to generate a description or is unclear, respond with: {\"description\": \"Unpredictable\"}.\n",
    ">\n",
    ">    Return the result in a valid JSON format: {\"description\": <GENERATED_DESCRIPTION>}.\n",
    ">\n",
    ">    Here are some examples to guide you:\n",
    ">\n",
    ">    Category: \"Postres\"<br>\n",
    ">    Name: \"Pastel Tres Leches\"<br>\n",
    ">    Description: {\"description\": \"Un esponjoso pastel bañado en tres tipos de leche, coronado con crema batida, perfecto para los amantes de los postres dulces y cremosos.\"}\n",
    ">\n",
    ">    Category: \"Entradas\"<br>\n",
    ">    Name: \"Guacamole con Totopos\"<br>\n",
    ">    Description: {\"description\": \"Guacamole fresco hecho con aguacates maduros, jugo de limón y un toque de cilantro, acompañado de crujientes totopos de maíz.\"}\n",
    ">\n",
    ">    Category: \"Sopas\"<br>\n",
    ">    Name: \"Sopa de Tortilla\"<br>\n",
    ">    Description: {\"description\": \"Tradicional sopa mexicana con tiras de tortilla crujiente, aguacate, queso fresco y un toque de chile pasilla.\"}\n",
    ">\n",
    ">    Category: \"A cualquier hora\"<br>\n",
    ">    Name: \"Flambe Bambe\"<br>\n",
    ">    Description: {\"description\": \"Unpredictable\"}\"\n",
    ">\n",
    ">    Category: \"Ensaladas\"<br>\n",
    ">    Name: \"Ensalada César\"<br>\n",
    ">    Description: {\"description\": \"Crujientes hojas de lechuga romana con aderezo César, crotones y queso parmesano fresco.\"}\n",
    ">\n",
    ">    Category: \"Tacos\"<br>\n",
    ">    Name: \"Tacos de Barbacoa\"<br>\n",
    ">    Description: {\"description\": \"Tacos suaves con carne de barbacoa cocida lentamente, acompañados de cebolla y salsa verde.\"}\n",
    ">\n",
    ">    Category: \"Smoothies\"<br>\n",
    ">    Name: \"Caribe (plátano, coco, chocolate)\"<br>\n",
    ">    Description: {\"description\": \"Una mezcla exótica y dulce de plátano, coco y chocolate, perfecta para consentirte.\"}\n",
    ">\n",
    ">    Category: \"Café\"<br>\n",
    ">    Name: \"Mocha\"<br>\n",
    ">    Description: {\"description\": \"Una deliciosa combinación de café espresso, chocolate y leche cremosa, perfecta para los amantes del chocolate\"}\n",
    ">\n",
    ">    Category: \"Desayunos\"<br>\n",
    ">    Name: \"Huevos Motuleños (2 huevos fritos sobre tortilla, salsa roja, jamón y plátano frito)\"<br>\n",
    ">    Description: {\"description\": \"Un clásico desayuno yucateco con huevos fritos sobre tortilla, salsa roja, jamón y un toque dulce de plátano frito.\"}\n",
    ">\n",
    ">    Category: \"Café\"<br>\n",
    ">    Name: \"Bloom\"<br>\n",
    ">    Description: {\"description\": \"Unpredictable\"}\n",
    "\n",
    "\n",
    "Перевод наименований и описаний также будет произведен с использованием LLM, для управления стилем перевода, аналогично промпту выше, здесь использован few-shot подход.\n",
    "### Промпт для перевода будет иметь примерно такой вид:\n",
    ">    You are a helpful culinary assistant. You will be provided with name, and description of a dish from a menu in Spanish. \n",
    ">    Your task is to translate the name and description into English, preserving the original meaning, style, and tone.\n",
    ">\n",
    ">    Return the result in a valid JSON format: {\"name\": <TRANSLATED_NAME>, \"description\": <TRANSLATED_DESCRIPTION>}.\n",
    ">\n",
    ">    Here are some examples to guide you:\n",
    ">\n",
    ">    Name: \"Pastel Tres Leches\"<br>\n",
    ">    Description: {\"description\": \"Un esponjoso pastel bañado en tres tipos de leche, coronado con crema batida, perfecto para los amantes de los postres dulces y cremosos.\"}<br>\n",
    ">    Translation: {\"name\": \"Three Milk Cake\", \"description\": \"A fluffy cake soaked in three types of milk, topped with whipped cream, perfect for lovers of sweet and creamy desserts.\"}\n",
    ">\n",
    ">    Name: \"Guacamole con Totopos\"<br>\n",
    ">    Description: {\"description\": \"Guacamole fresco hecho con aguacates maduros, jugo de limón y un toque de cilantro, acompañado de crujientes totopos de maíz.\"}<br>\n",
    ">    Translation: {\"name\": \"Guacamole with Tortilla Chips\", \"description\": \"Fresh guacamole made with ripe avocados, lime juice, and a touch of cilantro, served with crispy tortilla chips.\"}\n",
    ">\n",
    ">    Name: \"Sopa de Tortilla\"<br>\n",
    ">    Description: {\"description\": \"Tradicional sopa mexicana con tiras de tortilla crujiente, aguacate, queso fresco y un toque de chile pasilla.\"}<br>\n",
    ">    Translation: {\"name\": \"Tortilla Soup\", \"description\": \"Traditional Mexican soup with crispy tortilla strips, avocado, fresh cheese, and a hint of pasilla chili.\"}\n",
    ">\n",
    ">    Name: \"Ensalada César\"<br>\n",
    ">    Description: {\"description\": \"Crujientes hojas de lechuga romana con aderezo César, crotones y queso parmesano fresco.\"}<br>\n",
    ">    Translation: {\"name\": \"Caesar Salad\", \"description\": \"Crisp romaine lettuce with Caesar dressing, croutons, and fresh Parmesan cheese.\"}\n",
    ">\n",
    ">    Name: \"Tacos de Barbacoa\"<br>\n",
    ">    Description: {\"description\": \"Tacos suaves con carne de barbacoa cocida lentamente, acompañados de cebolla y salsa verde.\"}<br>\n",
    ">    Translation: {\"name\": \"Barbacoa Tacos\", \"description\": \"Soft tacos filled with slow-cooked barbacoa meat, served with onions and green salsa.\"}\n",
    ">\n",
    ">    Name: \"Caribe (plátano, coco, chocolate)\"<br>\n",
    ">    Description: {\"description\": \"Una mezcla exótica y dulce de plátano, coco y chocolate, perfecta para consentirte.\"}<br>\n",
    ">    Translation: {\"name\": \"Caribbean (banana, coconut, chocolate)\", \"description\": \"An exotic and sweet blend of banana, coconut, and chocolate, perfect for indulging yourself.\"}\n",
    ">\n",
    ">    Name: \"Mocha\"<br>\n",
    ">    Description: {\"description\": \"Una deliciosa combinación de café espresso, chocolate y leche cremosa, perfecta para los amantes del chocolate\"}<br>\n",
    ">    Translation: {\"name\": \"Mocha\", \"description\": \"A delightful combination of espresso coffee, chocolate, and creamy milk, perfect for chocolate lovers.\"}\n",
    ">\n",
    ">    Name: \"Huevos Motuleños (2 huevos fritos sobre tortilla, salsa roja, jamón y plátano frito)\"<br>\n",
    ">    Description: {\"description\": \"Un clásico desayuno yucateco con huevos fritos sobre tortilla, salsa roja, jamón y un toque dulce de plátano frito.\"}<br>\n",
    ">    Translation: {\"name\": \"Motuleños Eggs (2 fried eggs on tortilla, red sauce, ham, and fried plantain)\", \"description\": \"A classic Yucatecan breakfast with fried eggs on tortilla, red sauce, ham, and a sweet touch of fried plantain.\"}"
   ]
  },
  {
   "cell_type": "markdown",
   "metadata": {},
   "source": [
    "## Implementation"
   ]
  },
  {
   "cell_type": "markdown",
   "metadata": {},
   "source": [
    "### Imports"
   ]
  },
  {
   "cell_type": "code",
   "execution_count": 40,
   "metadata": {},
   "outputs": [],
   "source": [
    "import os\n",
    "import json\n",
    "import backoff\n",
    "import requests\n",
    "\n",
    "from typing import Optional\n",
    "from dotenv import load_dotenv\n",
    "from tqdm.notebook import tqdm\n",
    "from pydantic_settings import BaseSettings\n",
    "from openai import OpenAI, APIConnectionError, RateLimitError"
   ]
  },
  {
   "cell_type": "markdown",
   "metadata": {},
   "source": [
    "### Config"
   ]
  },
  {
   "cell_type": "code",
   "execution_count": 69,
   "metadata": {},
   "outputs": [],
   "source": [
    "load_dotenv()\n",
    "\n",
    "class Settings(BaseSettings):\n",
    "    ## File paths\n",
    "    FILE_PATH: str = \"/mnt/c/Users/Games/Desktop/beep-dev/prompting-test/data/JSON_input_Viva_Tikila.json\"\n",
    "    RESULT_DESCRIPTIONS_FILE_PATH: str = \"/mnt/c/Users/Games/Desktop/beep-dev/prompting-test/data/solution_2_descriptions.json\"\n",
    "    RESULT_TRANSLATION_FILE_PATH: str = \"/mnt/c/Users/Games/Desktop/beep-dev/prompting-test/data/solution_2_translation.json\"\n",
    "\n",
    "    ## File fields\n",
    "    CATEGORIES_LIST_FIELD: str = \"categories\"\n",
    "    ITEMS_LIST_FIELD: str = \"items\"\n",
    "    CATEGORY_FIELD: str = \"category\"\n",
    "    ITEM_NAME_FIELD: str = \"name\"\n",
    "    ITEM_DESCRIPTION_FIELD: str = \"description\"\n",
    "\n",
    "    ## LLM\n",
    "    #LLM_URL: str = os.environ[\"LLM_URL\"] # for self-host/open-router/etc openai-compatible LLM\n",
    "    LLM_API_KEY: str = os.environ[\"LLM_API_KEY\"]\n",
    "    LLM_NAME: str = \"gpt-4o-mini\"\n",
    "    MAX_TOKENS: int = 100\n",
    "    MAX_WAIT_TIME: int = 60  # больше 60 бессмысленно, кд на TPM пройдет\n",
    "    MAX_RESPONSE_LENGTH: int = 350\n",
    "\n",
    "    ## Translate\n",
    "    TRANSLATION_URL: str = os.environ[\"TRANSLATION_URL\"]\n",
    "    TRANSLATION_API_KEY: str = os.environ[\"TRANSLATION_API_KEY\"]\n",
    "    YANDEX_FOLDER_ID: str = os.environ[\"YANDEX_FOLDER_ID\"]\n",
    "\n",
    "    ## Prompts\n",
    "    DESCRIPTION_GENERATION_SYSTEM_PROMPT: str = \"\"\"You are a helpful culinary assistant. You will be provided with the name of a dish from the menu and the name of the dish category. \n",
    "    Your task is to respond with a concise description of the dish in Spanish. The description must align with a family restaurant style and must not exceed 350 characters in total.\n",
    "\n",
    "    If the name of the dish does not provide enough meaningful information to generate a description or is unclear, respond with: {\"description\": \"Unpredictable\"}.\n",
    "\n",
    "    Return the result in a valid JSON format: {\"description\": <GENERATED_DESCRIPTION}.\n",
    "\n",
    "    Here are some examples to guide you:\n",
    "\n",
    "    Category: \"Postres\"\n",
    "    Name: \"Pastel Tres Leches\"\n",
    "    Description: {\"description\": \"Un esponjoso pastel bañado en tres tipos de leche, coronado con crema batida, perfecto para los amantes de los postres dulces y cremosos.\"}\n",
    "\n",
    "    Category: \"Entradas\"\n",
    "    Name: \"Guacamole con Totopos\"\n",
    "    Description: {\"description\": \"Guacamole fresco hecho con aguacates maduros, jugo de limón y un toque de cilantro, acompañado de crujientes totopos de maíz.\"}\n",
    "\n",
    "    Category: \"Sopas\"\n",
    "    Name: \"Sopa de Tortilla\"\n",
    "    Description: {\"description\": \"Tradicional sopa mexicana con tiras de tortilla crujiente, aguacate, queso fresco y un toque de chile pasilla.\"}\n",
    "\n",
    "    Category: \"A cualquier hora\"\n",
    "    Name: \"Carne\"\n",
    "    Description: {\"description\": \"Unpredictable\"}\"\n",
    "\n",
    "    Category: \"Ensaladas\"\n",
    "    Name: \"Ensalada César\"\n",
    "    Description: {\"description\": \"Crujientes hojas de lechuga romana con aderezo César, crotones y queso parmesano fresco.\"}\n",
    "\n",
    "    Category: \"Tacos\"\n",
    "    Name: \"Tacos de Barbacoa\"\n",
    "    Description: {\"description\": \"Tacos suaves con carne de barbacoa cocida lentamente, acompañados de cebolla y salsa verde.\"}\n",
    "\n",
    "    Category: \"Smoothies\"\n",
    "    Name: \"Caribe (plátano, coco, chocolate)\"\n",
    "    Description: {\"description\": \"Una mezcla exótica y dulce de plátano, coco y chocolate, perfecta para consentirte.\"}\n",
    "\n",
    "    Category: \"Café\"\n",
    "    Name: \"Mocha\"\n",
    "    Description: {\"description\": \"Una deliciosa combinación de café espresso, chocolate y leche cremosa, perfecta para los amantes del chocolate\"}\n",
    "\n",
    "    Category: \"Desayunos\"\n",
    "    Name: \"Huevos Motuleños (2 huevos fritos sobre tortilla, salsa roja, jamón y plátano frito)\"\n",
    "    Description: {\"description\": \"Un clásico desayuno yucateco con huevos fritos sobre tortilla, salsa roja, jamón y un toque dulce de plátano frito.\"}\n",
    "\n",
    "    Category: \"Café\"\n",
    "    Name: \"Culo Llameante\"\n",
    "    Description: {\"description\": \"Unpredictable\"}\"\"\"\n",
    "\n",
    "    DESCRIPTION_GENERATION_PROMPT: str = \"\"\"Generate a short Spanish description (no more than 350 characters) for the following dish with category: \"{category}\" and name: \"{name}\".\n",
    "    If the name of the dish is unclear or does not provide enough information for a meaningful description, return: {{\"description\": \"Unpredictable\"}}.\n",
    "    \"\"\"\n",
    "\n",
    "    TRANSLATION_SYSTEM_PROMPT: str = \"\"\"You are a helpful culinary assistant. You will be provided with name, and description of a dish from a menu in Spanish. \n",
    "    Your task is to translate the name and description into English, preserving the original meaning, style, and tone.\n",
    "\n",
    "    Return the result in a valid JSON format: {\"name\": <TRANSLATED_NAME, \"description\": <TRANSLATED_DESCRIPTION}.\n",
    "\n",
    "    Here are some examples to guide you:\n",
    "\n",
    "    Name: \"Pastel Tres Leches\"\n",
    "    Description: {\"description\": \"Un esponjoso pastel bañado en tres tipos de leche, coronado con crema batida, perfecto para los amantes de los postres dulces y cremosos.\"}\n",
    "    Translation: {\"name\": \"Three Milk Cake\", \"description\": \"A fluffy cake soaked in three types of milk, topped with whipped cream, perfect for lovers of sweet and creamy desserts.\"}\n",
    "\n",
    "    Name: \"Guacamole con Totopos\"\n",
    "    Description: {\"description\": \"Guacamole fresco hecho con aguacates maduros, jugo de limón y un toque de cilantro, acompañado de crujientes totopos de maíz.\"}\n",
    "    Translation: {\"name\": \"Guacamole with Tortilla Chips\", \"description\": \"Fresh guacamole made with ripe avocados, lime juice, and a touch of cilantro, served with crispy tortilla chips.\"}\n",
    "\n",
    "    Name: \"Sopa de Tortilla\"\n",
    "    Description: {\"description\": \"Tradicional sopa mexicana con tiras de tortilla crujiente, aguacate, queso fresco y un toque de chile pasilla.\"}\n",
    "    Translation: {\"name\": \"Tortilla Soup\", \"description\": \"Traditional Mexican soup with crispy tortilla strips, avocado, fresh cheese, and a hint of pasilla chili.\"}\n",
    "\n",
    "    Name: \"Ensalada César\"\n",
    "    Description: {\"description\": \"Crujientes hojas de lechuga romana con aderezo César, crotones y queso parmesano fresco.\"}\n",
    "    Translation: {\"name\": \"Caesar Salad\", \"description\": \"Crisp romaine lettuce with Caesar dressing, croutons, and fresh Parmesan cheese.\"}\n",
    "\n",
    "    Name: \"Tacos de Barbacoa\"\n",
    "    Description: {\"description\": \"Tacos suaves con carne de barbacoa cocida lentamente, acompañados de cebolla y salsa verde.\"}\n",
    "    Translation: {\"name\": \"Barbacoa Tacos\", \"description\": \"Soft tacos filled with slow-cooked barbacoa meat, served with onions and green salsa.\"}\n",
    "\n",
    "    Name: \"Caribe (plátano, coco, chocolate)\"\n",
    "    Description: {\"description\": \"Una mezcla exótica y dulce de plátano, coco y chocolate, perfecta para consentirte.\"}\n",
    "    Translation: {\"name\": \"Caribbean (banana, coconut, chocolate)\", \"description\": \"An exotic and sweet blend of banana, coconut, and chocolate, perfect for indulging yourself.\"}\n",
    "\n",
    "    Name: \"Mocha\"\n",
    "    Description: {\"description\": \"Una deliciosa combinación de café espresso, chocolate y leche cremosa, perfecta para los amantes del chocolate\"}\n",
    "    Translation: {\"name\": \"Mocha\", \"description\": \"A delightful combination of espresso coffee, chocolate, and creamy milk, perfect for chocolate lovers.\"}\n",
    "\n",
    "    Name: \"Huevos Motuleños (2 huevos fritos sobre tortilla, salsa roja, jamón y plátano frito)\"\n",
    "    Description: {\"description\": \"Un clásico desayuno yucateco con huevos fritos sobre tortilla, salsa roja, jamón y un toque dulce de plátano frito.\"}\n",
    "    Translation: {\"name\": \"Motuleños Eggs (2 fried eggs on tortilla, red sauce, ham, and fried plantain)\", \"description\": \"A classic Yucatecan breakfast with fried eggs on tortilla, red sauce, ham, and a sweet touch of fried plantain.\"}\n",
    "    \"\"\"\n",
    "\n",
    "    TRANSLATION_PROMPT: str = \"\"\"Translate the following name and description from Spanish to English. \n",
    "    Input:\n",
    "    Name: \"{name}\"\n",
    "    Description: \"{description}\"\n",
    "    \"\"\"\n",
    "\n",
    "settings = Settings()\n",
    "\n"
   ]
  },
  {
   "cell_type": "markdown",
   "metadata": {},
   "source": [
    "### Utils"
   ]
  },
  {
   "cell_type": "code",
   "execution_count": 76,
   "metadata": {},
   "outputs": [],
   "source": [
    "def validate_response_length(text: str, max_length: int = settings.MAX_RESPONSE_LENGTH) -> bool:\n",
    "    \"\"\"\n",
    "    Validates that the given response is less than or equal to the specified maximum length.\n",
    "\n",
    "    Args:\n",
    "        text (str): The response from the LLM.\n",
    "        max_length (int): The maximum allowed length of the response. Default is 350.\n",
    "\n",
    "    Returns:\n",
    "        bool: True if the response length is valid, False otherwise.\n",
    "    \"\"\"\n",
    "    return len(text) <= max_length"
   ]
  },
  {
   "cell_type": "markdown",
   "metadata": {},
   "source": [
    "### Main (generate descriptions)"
   ]
  },
  {
   "cell_type": "code",
   "execution_count": 77,
   "metadata": {},
   "outputs": [
    {
     "data": {
      "application/vnd.jupyter.widget-view+json": {
       "model_id": "053a1df7aa434a80b43b8b6a06a5bf9a",
       "version_major": 2,
       "version_minor": 0
      },
      "text/plain": [
       "Processing Categories:   0%|          | 0/6 [00:00<?, ?it/s]"
      ]
     },
     "metadata": {},
     "output_type": "display_data"
    },
    {
     "data": {
      "application/vnd.jupyter.widget-view+json": {
       "model_id": "af28e449cd844baca38be5d9871f3c53",
       "version_major": 2,
       "version_minor": 0
      },
      "text/plain": [
       "Processing Items in Cafés:   0%|          | 0/6 [00:00<?, ?it/s]"
      ]
     },
     "metadata": {},
     "output_type": "display_data"
    },
    {
     "name": "stdout",
     "output_type": "stream",
     "text": [
      "Got uncertain position\n",
      "Got uncertain position\n"
     ]
    },
    {
     "data": {
      "application/vnd.jupyter.widget-view+json": {
       "model_id": "35c65dd3e5e445b8a5920e39b2cb5ce4",
       "version_major": 2,
       "version_minor": 0
      },
      "text/plain": [
       "Processing Items in Bebidas frías:   0%|          | 0/4 [00:00<?, ?it/s]"
      ]
     },
     "metadata": {},
     "output_type": "display_data"
    },
    {
     "data": {
      "application/vnd.jupyter.widget-view+json": {
       "model_id": "0b297fe7325147608a6ce8edf6552ba1",
       "version_major": 2,
       "version_minor": 0
      },
      "text/plain": [
       "Processing Items in Jugos Frescos:   0%|          | 0/2 [00:00<?, ?it/s]"
      ]
     },
     "metadata": {},
     "output_type": "display_data"
    },
    {
     "data": {
      "application/vnd.jupyter.widget-view+json": {
       "model_id": "17d1174f21fa4f6891e17815cfbf48d4",
       "version_major": 2,
       "version_minor": 0
      },
      "text/plain": [
       "Processing Items in Smoothies:   0%|          | 0/6 [00:00<?, ?it/s]"
      ]
     },
     "metadata": {},
     "output_type": "display_data"
    },
    {
     "data": {
      "application/vnd.jupyter.widget-view+json": {
       "model_id": "ad3a6ed617784423a55dc3aa6b1d482f",
       "version_major": 2,
       "version_minor": 0
      },
      "text/plain": [
       "Processing Items in Desayunos:   0%|          | 0/8 [00:00<?, ?it/s]"
      ]
     },
     "metadata": {},
     "output_type": "display_data"
    },
    {
     "data": {
      "application/vnd.jupyter.widget-view+json": {
       "model_id": "7e86c882f4284487926c89caabd4510e",
       "version_major": 2,
       "version_minor": 0
      },
      "text/plain": [
       "Processing Items in A cualquier hora:   0%|          | 0/14 [00:00<?, ?it/s]"
      ]
     },
     "metadata": {},
     "output_type": "display_data"
    },
    {
     "name": "stdout",
     "output_type": "stream",
     "text": [
      "Data successfully saved to /mnt/c/Users/Games/Desktop/beep-dev/prompting-test/data/solution_2_descriptions.json\n"
     ]
    }
   ],
   "source": [
    "data = import_data(settings.FILE_PATH)\n",
    "\n",
    "if not validate_data_structure(data=data):\n",
    "    raise Exception(\"Please fix identified errors in the provided file.\")\n",
    "\n",
    "openai_client = get_openai_client()\n",
    "\n",
    "categories = data.get(settings.CATEGORIES_LIST_FIELD, [])\n",
    "for category in tqdm(categories, desc=\"Processing Categories\"):\n",
    "    category_name = category[settings.CATEGORY_FIELD]\n",
    "    items = category.get(settings.ITEMS_LIST_FIELD, [])\n",
    "    for item in tqdm(items, desc=f\"Processing Items in {category_name}\", leave=False):\n",
    "        item_name = item[settings.ITEM_NAME_FIELD]\n",
    "        try:\n",
    "            description_json = generate_response(\n",
    "                prompt=settings.DESCRIPTION_GENERATION_PROMPT.format(category=category_name, name=item_name),\n",
    "                system_prompt=settings.DESCRIPTION_GENERATION_SYSTEM_PROMPT,\n",
    "                openai_client=openai_client\n",
    "            )\n",
    "\n",
    "            description = json.loads(description_json)[\"description\"]\n",
    "            if not validate_response_length(text=description):\n",
    "                raise Exception(f\"Generated description is too long: {len(description)}\")\n",
    "            \n",
    "            if description == \"Unpredictable\":\n",
    "                print(\"Got uncertain position\")\n",
    "                \n",
    "        except (KeyError, json.JSONDecodeError) as e:\n",
    "            print(f\"Error processing item '{item_name}' in category '{category_name}': {e}\")\n",
    "            description = \"Description unavailable\"\n",
    "        except Exception as e:\n",
    "            print(f\"Error processing item '{item_name}' in category '{category_name}': {e}\")\n",
    "            description = \"Description unavailable\"\n",
    "\n",
    "        item[settings.ITEM_DESCRIPTION_FIELD] = description\n",
    "        \n",
    "save_json(data=data, output_file_path=settings.RESULT_DESCRIPTIONS_FILE_PATH)"
   ]
  },
  {
   "cell_type": "markdown",
   "metadata": {},
   "source": [
    "LLM была неуверена в двух позициях меню в разделе Кофе:\n",
    "- Coffee\n",
    "- Doble\n",
    "\n",
    "Если с Doble человеку будет понятно, что это двойной эспрессо (тк у него есть контекст, что прошлая позиция - эспрессо), то с Coffee возникнут проблемы и у обычного человека"
   ]
  },
  {
   "cell_type": "markdown",
   "metadata": {},
   "source": [
    "### Main (translate)"
   ]
  },
  {
   "cell_type": "code",
   "execution_count": 78,
   "metadata": {},
   "outputs": [
    {
     "data": {
      "application/vnd.jupyter.widget-view+json": {
       "model_id": "7153a4452ef04b25a4fbc0ce70be42fb",
       "version_major": 2,
       "version_minor": 0
      },
      "text/plain": [
       "Processing Categories:   0%|          | 0/6 [00:00<?, ?it/s]"
      ]
     },
     "metadata": {},
     "output_type": "display_data"
    },
    {
     "data": {
      "application/vnd.jupyter.widget-view+json": {
       "model_id": "4d278fb5210a406b9b1a781b52c920a1",
       "version_major": 2,
       "version_minor": 0
      },
      "text/plain": [
       "Processing Items in Cafés:   0%|          | 0/6 [00:00<?, ?it/s]"
      ]
     },
     "metadata": {},
     "output_type": "display_data"
    },
    {
     "data": {
      "application/vnd.jupyter.widget-view+json": {
       "model_id": "4d55a5f9441e42ef9668be2bdc48f598",
       "version_major": 2,
       "version_minor": 0
      },
      "text/plain": [
       "Processing Items in Bebidas frías:   0%|          | 0/4 [00:00<?, ?it/s]"
      ]
     },
     "metadata": {},
     "output_type": "display_data"
    },
    {
     "data": {
      "application/vnd.jupyter.widget-view+json": {
       "model_id": "d6424159726d41b2bef9336fe33c07fa",
       "version_major": 2,
       "version_minor": 0
      },
      "text/plain": [
       "Processing Items in Jugos Frescos:   0%|          | 0/2 [00:00<?, ?it/s]"
      ]
     },
     "metadata": {},
     "output_type": "display_data"
    },
    {
     "data": {
      "application/vnd.jupyter.widget-view+json": {
       "model_id": "840b72905ee443928c07f5d12f9dc1e3",
       "version_major": 2,
       "version_minor": 0
      },
      "text/plain": [
       "Processing Items in Smoothies:   0%|          | 0/6 [00:00<?, ?it/s]"
      ]
     },
     "metadata": {},
     "output_type": "display_data"
    },
    {
     "data": {
      "application/vnd.jupyter.widget-view+json": {
       "model_id": "c1d818f40e38495f879283d56dc32e34",
       "version_major": 2,
       "version_minor": 0
      },
      "text/plain": [
       "Processing Items in Desayunos:   0%|          | 0/8 [00:00<?, ?it/s]"
      ]
     },
     "metadata": {},
     "output_type": "display_data"
    },
    {
     "data": {
      "application/vnd.jupyter.widget-view+json": {
       "model_id": "e8c3114267964ea5bc867fac855b5335",
       "version_major": 2,
       "version_minor": 0
      },
      "text/plain": [
       "Processing Items in A cualquier hora:   0%|          | 0/14 [00:00<?, ?it/s]"
      ]
     },
     "metadata": {},
     "output_type": "display_data"
    },
    {
     "name": "stdout",
     "output_type": "stream",
     "text": [
      "Data successfully saved to /mnt/c/Users/Games/Desktop/beep-dev/prompting-test/data/solution_2_translation.json\n"
     ]
    }
   ],
   "source": [
    "def translate_data(data, target_language=\"en\"):\n",
    "    categories = data.get(settings.CATEGORIES_LIST_FIELD, [])\n",
    "    for category in tqdm(categories, desc=\"Processing Categories\"):\n",
    "        category_name = category[settings.CATEGORY_FIELD]\n",
    "        category[settings.CATEGORY_FIELD] = translate(category_name, target_language)\n",
    "\n",
    "        items = category.get(settings.ITEMS_LIST_FIELD, [])\n",
    "        for item in tqdm(items, desc=f\"Processing Items in {category_name}\", leave=False):\n",
    "            translation_json = generate_response(\n",
    "                prompt=settings.TRANSLATION_PROMPT.format(name=item[settings.ITEM_NAME_FIELD], description=item[settings.ITEM_DESCRIPTION_FIELD]),\n",
    "                system_prompt=settings.TRANSLATION_SYSTEM_PROMPT,\n",
    "                openai_client=openai_client\n",
    "            )\n",
    "\n",
    "            translation = json.loads(translation_json)\n",
    "            item[settings.ITEM_NAME_FIELD] = translation[\"name\"]\n",
    "            item[settings.ITEM_DESCRIPTION_FIELD] = translation[\"description\"]\n",
    "\n",
    "    return data\n",
    "\n",
    "translated_data = translate_data(data, target_language=\"en\")\n",
    "save_json(data=translated_data, output_file_path=settings.RESULT_TRANSLATION_FILE_PATH)"
   ]
  },
  {
   "cell_type": "markdown",
   "metadata": {},
   "source": [
    "# Discussion\n",
    "\n",
    "## Solution 2 Conclusion\n",
    "Второе решение продемонстрировало прирост в качестве генерации описаний и перевода всего меню, все проблемы, выявленные при простом подходе были решены.\n",
    "\n",
    "Однако, появились дополнительные нюансы, а именно, в двух позициях LLM не была уверена и не смогла сгенерировать описания основываясь на разделе меню и наименовании позиции, в результате чего, им было проставлено описания: \"Unpredictable\". Можно много рассуждать о целесообразности такой защиты в тестовом задании, но если воспринимать задание как реальную продуктовую систему, мне это кажется более чем оправданным, тк вопрос времени, когда придут позиции, в которых модель будет галюцинировать.\n",
    "\n",
    "Такие позиции должны быть переданы на ручной анализ, в результате которого может быть несколько вариантов:\n",
    "1. LLM ошиблась, позиции можно однозначно трактовать и генерировать к ним описание\n",
    "2. LLM права, к данной позиции невозможно дать корректное описание на основании предоставленных данных\n",
    "\n",
    "В первом случае можно улучшить промпт, добавив валидное описание для проблемной позиции, во втором варианте сложнее, решение зависит от желаний бизнеса, либо мы хотим гадать и нам некритично дать некорректное описание, либо расширяем набор входных данных (добавляем, например, состав блюда), либо одно из огромного множества альтернативных решений.\n",
    "\n",
    "Касательно перевода с использованием LLM, безусловно работает лучше обычных переводчиков, но на реальной бизнесовой задаче, я бы задумался о целесообразности few-shot подхода и провел несколько тестов, чтобы выявить, есть ли от него значительный импакт.\n",
    "\n",
    "## Further Improvements\n",
    "Раскручивать идею дальше можно сколько угодно, вопрос в желании бизнеса, важности задачи (мало ли это core продукт), потенциально логичным было бы добавить подход к оценке, можно собрать валидационный датасет с эталонными описаниями, использовать их для примеров в few-shot, а также проводить на них замеры качества обновленной системы. Для оценки логичнее всего было бы использовать SOTA проприетарные модельки в качестве \"LLM as a judge\". Также, стоит отметить, что при таком подходе очень желательно добиться детерменированного результата от LLM (если ходить в openai, необходимо выставить нулевую температуру, добавить сид и следить за фингерпринтом ответа).\n"
   ]
  },
  {
   "cell_type": "markdown",
   "metadata": {},
   "source": []
  }
 ],
 "metadata": {
  "kernelspec": {
   "display_name": ".venv",
   "language": "python",
   "name": "python3"
  },
  "language_info": {
   "codemirror_mode": {
    "name": "ipython",
    "version": 3
   },
   "file_extension": ".py",
   "mimetype": "text/x-python",
   "name": "python",
   "nbconvert_exporter": "python",
   "pygments_lexer": "ipython3",
   "version": "3.10.12"
  }
 },
 "nbformat": 4,
 "nbformat_minor": 2
}
